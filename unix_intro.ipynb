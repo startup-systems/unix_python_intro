{
 "cells": [
  {
   "cell_type": "markdown",
   "metadata": {},
   "source": [
    "#### All code blocks with lines starting from ! show bash code"
   ]
  },
  {
   "cell_type": "markdown",
   "metadata": {},
   "source": [
    "## A quick tour through Unix / Linux"
   ]
  },
  {
   "cell_type": "markdown",
   "metadata": {},
   "source": [
    "### Observing computation"
   ]
  },
  {
   "cell_type": "markdown",
   "metadata": {},
   "source": [
    "<img src=\"monitoring.png\">"
   ]
  },
  {
   "cell_type": "markdown",
   "metadata": {},
   "source": [
    "### How to use command line"
   ]
  },
  {
   "cell_type": "markdown",
   "metadata": {},
   "source": [
    "http://www.computerworld.com/article/2598082/linux/linux-linux-command-line-cheat-sheet.html"
   ]
  },
  {
   "cell_type": "code",
   "execution_count": 2,
   "metadata": {
    "collapsed": false
   },
   "outputs": [
    {
     "name": "stdout",
     "output_type": "stream",
     "text": [
      "/Users/aub3/Dropbox/Projects/StartupSystems/unix_python_intro\r\n"
     ]
    }
   ],
   "source": [
    "!pwd"
   ]
  },
  {
   "cell_type": "code",
   "execution_count": 4,
   "metadata": {
    "collapsed": false
   },
   "outputs": [
    {
     "name": "stdout",
     "output_type": "stream",
     "text": [
      "/Users/aub3/Dropbox/Projects/StartupSystems\r\n"
     ]
    }
   ],
   "source": [
    "!cd ..;pwd"
   ]
  },
  {
   "cell_type": "code",
   "execution_count": 5,
   "metadata": {
    "collapsed": false
   },
   "outputs": [
    {
     "name": "stdout",
     "output_type": "stream",
     "text": [
      "/Users/aub3/Dropbox/Projects/StartupSystems/unix_python_intro\r\n"
     ]
    }
   ],
   "source": [
    "!cd ..;cd unix_python_intro;pwd"
   ]
  },
  {
   "cell_type": "markdown",
   "metadata": {
    "collapsed": false
   },
   "source": [
    "### Root directory"
   ]
  },
  {
   "cell_type": "markdown",
   "metadata": {},
   "source": [
    "cd /;ls\n",
    "*/: Root directory (base of file system)\n",
    "\n",
    "/bin: Executable programs\n",
    "\n",
    "/boot: Linux kernel and boot loader\n",
    "\n",
    "/dev: Special device files\n",
    "\n",
    "/etc: System configuration files\n",
    "\n",
    "/home: Home directories of all users\n",
    "\n",
    "/lib: Library files for programs\n",
    "\n",
    "/media: Mount points for CD-ROM and other media\n",
    "\n",
    "/root: Home directory of the root user\n",
    "\n",
    "*/sbin: System administration commands\n",
    "\n",
    "/srv: Data for services such as Web and FTP\n",
    "\n",
    "*/tmp: Temporary directory\n",
    "\n",
    "/usr: Many of the important administration programs\n",
    "\n",
    "/var: Various system files, such as logs"
   ]
  },
  {
   "cell_type": "markdown",
   "metadata": {},
   "source": [
    "### Current folder"
   ]
  },
  {
   "cell_type": "code",
   "execution_count": 1,
   "metadata": {
    "collapsed": false,
    "scrolled": true
   },
   "outputs": [
    {
     "name": "stdout",
     "output_type": "stream",
     "text": [
      "readme.md               unix_python_intro.ipynb\r\n"
     ]
    }
   ],
   "source": [
    "!ls"
   ]
  },
  {
   "cell_type": "markdown",
   "metadata": {},
   "source": [
    "### with more information"
   ]
  },
  {
   "cell_type": "code",
   "execution_count": 2,
   "metadata": {
    "collapsed": false,
    "scrolled": true
   },
   "outputs": [
    {
     "name": "stdout",
     "output_type": "stream",
     "text": [
      "total 8\r\n",
      "-rw-r--r--@ 1 aub3  staff     0B Aug 21 00:01 readme.md\r\n",
      "-rw-r--r--@ 1 aub3  staff   701B Aug 21 00:04 unix_python_intro.ipynb\r\n"
     ]
    }
   ],
   "source": [
    "!ls -lh"
   ]
  },
  {
   "cell_type": "code",
   "execution_count": 5,
   "metadata": {
    "collapsed": false
   },
   "outputs": [
    {
     "name": "stdout",
     "output_type": "stream",
     "text": [
      "hahah\r\n"
     ]
    }
   ],
   "source": [
    "!echo \"hahah\""
   ]
  },
  {
   "cell_type": "code",
   "execution_count": 9,
   "metadata": {
    "collapsed": true
   },
   "outputs": [],
   "source": [
    "import random\n",
    "test_data = open('test_data','w')\n",
    "for k in xrange(10**4):\n",
    "    test_data.write(\"{}\\t{}\\n\".format(k,random.randint(0,k)))\n",
    "test_data.close()"
   ]
  },
  {
   "cell_type": "code",
   "execution_count": 10,
   "metadata": {
    "collapsed": false
   },
   "outputs": [
    {
     "name": "stdout",
     "output_type": "stream",
     "text": [
      "0\t0\r\n",
      "1\t1\r\n",
      "2\t2\r\n",
      "3\t2\r\n",
      "4\t1\r\n",
      "5\t5\r\n",
      "6\t6\r\n",
      "7\t5\r\n",
      "8\t6\r\n",
      "9\t2\r\n"
     ]
    }
   ],
   "source": [
    "!head test_data"
   ]
  },
  {
   "cell_type": "code",
   "execution_count": 13,
   "metadata": {
    "collapsed": false
   },
   "outputs": [
    {
     "name": "stdout",
     "output_type": "stream",
     "text": [
      "0\t0\r\n",
      "1\t1\r\n",
      "2\t2\r\n",
      "3\t2\r\n",
      "4\t1\r\n",
      "5\t5\r\n",
      "6\t6\r\n",
      "7\t5\r\n",
      "8\t6\r\n",
      "9\t2\r\n",
      "cat: stdout: Broken pipe\r\n"
     ]
    }
   ],
   "source": [
    "!cat test_data | head"
   ]
  },
  {
   "cell_type": "code",
   "execution_count": 11,
   "metadata": {
    "collapsed": false
   },
   "outputs": [
    {
     "name": "stdout",
     "output_type": "stream",
     "text": [
      "9990\t5146\r\n",
      "9991\t6567\r\n",
      "9992\t3070\r\n",
      "9993\t6371\r\n",
      "9994\t3113\r\n",
      "9995\t6799\r\n",
      "9996\t9811\r\n",
      "9997\t9725\r\n",
      "9998\t1331\r\n",
      "9999\t7015\r\n"
     ]
    }
   ],
   "source": [
    "!tail test_data"
   ]
  },
  {
   "cell_type": "code",
   "execution_count": 12,
   "metadata": {
    "collapsed": false
   },
   "outputs": [
    {
     "name": "stdout",
     "output_type": "stream",
     "text": [
      "   10000   20000   94868 test_data\r\n"
     ]
    }
   ],
   "source": [
    "!wc test_data"
   ]
  },
  {
   "cell_type": "code",
   "execution_count": 14,
   "metadata": {
    "collapsed": false
   },
   "outputs": [
    {
     "name": "stdout",
     "output_type": "stream",
     "text": [
      "999\t880\r\n",
      "1999\t17\r\n",
      "2707\t999\r\n",
      "2999\t226\r\n",
      "3440\t999\r\n",
      "3999\t3405\r\n",
      "4486\t999\r\n",
      "4555\t3999\r\n",
      "4999\t1321\r\n",
      "5999\t2201\r\n",
      "6853\t5999\r\n",
      "6865\t4999\r\n",
      "6979\t4999\r\n",
      "6999\t5926\r\n",
      "7476\t999\r\n",
      "7999\t3320\r\n",
      "8999\t8279\r\n",
      "9990\t5146\r\n",
      "9991\t6567\r\n",
      "9992\t3070\r\n",
      "9993\t6371\r\n",
      "9994\t3113\r\n",
      "9995\t6799\r\n",
      "9996\t9811\r\n",
      "9997\t9725\r\n",
      "9998\t1331\r\n",
      "9999\t7015\r\n"
     ]
    }
   ],
   "source": [
    "!grep \"999\" < test_data"
   ]
  },
  {
   "cell_type": "code",
   "execution_count": 16,
   "metadata": {
    "collapsed": false
   },
   "outputs": [
    {
     "name": "stdout",
     "output_type": "stream",
     "text": [
      "880\r\n",
      "17\r\n",
      "999\r\n",
      "226\r\n",
      "999\r\n",
      "3405\r\n",
      "999\r\n",
      "3999\r\n",
      "1321\r\n",
      "2201\r\n",
      "5999\r\n",
      "4999\r\n",
      "4999\r\n",
      "5926\r\n",
      "999\r\n",
      "3320\r\n",
      "8279\r\n",
      "5146\r\n",
      "6567\r\n",
      "3070\r\n",
      "6371\r\n",
      "3113\r\n",
      "6799\r\n",
      "9811\r\n",
      "9725\r\n",
      "1331\r\n",
      "7015\r\n"
     ]
    }
   ],
   "source": [
    "!grep \"999\" < test_data | cut -f 2"
   ]
  },
  {
   "cell_type": "code",
   "execution_count": 17,
   "metadata": {
    "collapsed": false
   },
   "outputs": [
    {
     "name": "stdout",
     "output_type": "stream",
     "text": [
      "      27      27     127\r\n"
     ]
    }
   ],
   "source": [
    "!grep \"999\" < test_data | cut -f 2 | wc"
   ]
  },
  {
   "cell_type": "code",
   "execution_count": null,
   "metadata": {
    "collapsed": true
   },
   "outputs": [],
   "source": [
    ""
   ]
  }
 ],
 "metadata": {
  "kernelspec": {
   "display_name": "Python 2",
   "language": "python",
   "name": "python2"
  },
  "language_info": {
   "codemirror_mode": {
    "name": "ipython",
    "version": 2.0
   },
   "file_extension": ".py",
   "mimetype": "text/x-python",
   "name": "python",
   "nbconvert_exporter": "python",
   "pygments_lexer": "ipython2",
   "version": "2.7.10"
  }
 },
 "nbformat": 4,
 "nbformat_minor": 0
}